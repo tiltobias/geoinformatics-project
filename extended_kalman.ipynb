{
 "cells": [
  {
   "cell_type": "markdown",
   "id": "e4b60a2f",
   "metadata": {},
   "source": [
    "This script implements an Extended Kalman Filter (EKF) to estimate the user's position \n",
    "based on pseudorange data from 8 base stations.\n",
    "Following professor's notes for EKF implementation."
   ]
  },
  {
   "cell_type": "code",
   "execution_count": 45,
   "id": "6c35af5c",
   "metadata": {},
   "outputs": [],
   "source": [
    "import numpy as np\n",
    "import matplotlib.pyplot as plt\n",
    "import pandas as pd\n",
    "from modules.calculate_LSM import calculate_LSM"
   ]
  },
  {
   "cell_type": "code",
   "execution_count": 46,
   "id": "2da8c5ee",
   "metadata": {},
   "outputs": [],
   "source": [
    "# Load data\n",
    "P = pd.read_csv(\"pseudoranges.csv\").to_numpy()\n",
    "base_stations = pd.read_csv(\"base_stations_LC.csv\").to_numpy()"
   ]
  },
  {
   "cell_type": "code",
   "execution_count": 73,
   "id": "069814de",
   "metadata": {},
   "outputs": [],
   "source": [
    "# Constants\n",
    "c = 299792458.0  # Speed of light in m/s\n",
    "dt = 1.0  # Time step in seconds (used in the transition matrix T)\n",
    "sigma_dt = 0.5e-9  # Clock drift standard deviation (0.5 ns)\n",
    "sigma_pos = 1.0  # Position process noise standard deviation (Assuming 1 meter)\n",
    "sigma_vel = 0.1  # Velocity process noise standard deviation (Assuming 0.1 m/s)\n",
    "sigma_pseudorange = 1  # Pseudorange measurement noise standard deviation (Assuming 1 meter)"
   ]
  },
  {
   "cell_type": "code",
   "execution_count": 74,
   "id": "96a02d63",
   "metadata": {},
   "outputs": [
    {
     "name": "stdout",
     "output_type": "stream",
     "text": [
      "Number of base stations: 8\n",
      "Number of measurements: 270\n",
      "Base stations shape: (8, 3)\n",
      "Pseudoranges shape: (270, 8)\n"
     ]
    }
   ],
   "source": [
    "# Number of base stations and measurements\n",
    "n_stations = base_stations.shape[0]\n",
    "n_measurements = P.shape[0]\n",
    "\n",
    "print(f\"Number of base stations: {n_stations}\")\n",
    "print(f\"Number of measurements: {n_measurements}\")\n",
    "print(f\"Base stations shape: {base_stations.shape}\")\n",
    "print(f\"Pseudoranges shape: {P.shape}\")"
   ]
  },
  {
   "cell_type": "markdown",
   "id": "944ca00c",
   "metadata": {},
   "source": [
    "State vector: [N_u, E_u, V_N, V_E, c*dt_u]\n",
    "\n",
    "N_u, E_u: North and East positions\n",
    "\n",
    "V_N, V_E: North and East velocities  \n",
    "\n",
    "c*dt_u: Clock offset (in meters)"
   ]
  },
  {
   "cell_type": "markdown",
   "id": "56d99552",
   "metadata": {},
   "source": [
    "**Initialization**"
   ]
  },
  {
   "cell_type": "code",
   "execution_count": 75,
   "id": "a473bc0d",
   "metadata": {},
   "outputs": [
    {
     "name": "stdout",
     "output_type": "stream",
     "text": [
      "Initial state estimate: [29.81347991 99.85669789  0.          0.          0.        ]\n"
     ]
    }
   ],
   "source": [
    "# Initialize state vector\n",
    "# Starting guess: LSM of 1st point\n",
    "initial_E, initial_N, _, _ = calculate_LSM(P[:1], base_stations)[0]\n",
    "initial_VN, initial_VE, initial_clock_offset = 0.0, 0.0, 0.0  # Assuming initial velocities are zero\n",
    "\n",
    "x_hat = np.array([initial_N, initial_E, initial_VN, initial_VE, initial_clock_offset])\n",
    "print(f\"Initial state estimate: {x_hat}\")"
   ]
  },
  {
   "cell_type": "markdown",
   "id": "a2c094cd",
   "metadata": {},
   "source": [
    "**State transition model**"
   ]
  },
  {
   "cell_type": "code",
   "execution_count": 76,
   "id": "bf22343d",
   "metadata": {},
   "outputs": [],
   "source": [
    "# State transition matrix T_k (constant velocity model)\n",
    "T = np.array([\n",
    "    [1, 0, dt, 0, 0],  # N_u(k) = N_u(k-1) + dt * V_N(k-1)\n",
    "    [0, 1, 0, dt, 0],  # E_u(k) = E_u(k-1) + dt * V_E(k-1)\n",
    "    [0, 0, 1, 0, 0],   # V_N(k) = V_N(k-1)\n",
    "    [0, 0, 0, 1, 0],   # V_E(k) = V_E(k-1)\n",
    "    [0, 0, 0, 0, 1]    # c*dt_u(k) = c*dt_u(k-1)\n",
    "])\n",
    "\n",
    "# Process noise covariance matrix C_k^model\n",
    "C_model = np.diag([\n",
    "    sigma_pos**2,  # Position N noise\n",
    "    sigma_pos**2,  # Position E noise\n",
    "    sigma_vel**2,  # Velocity N noise\n",
    "    sigma_vel**2,  # Velocity E noise\n",
    "    (c * sigma_dt)**2  # Clock offset noise\n",
    "])\n",
    "\n",
    "# Initial error covariance matrix\n",
    "C_error = np.eye(5) * 10.0**2  # Large initial uncertainty\n",
    "\n",
    "# Measurement noise covariance matrix C_k^obs\n",
    "C_obs = np.eye(n_stations) * sigma_pseudorange**2"
   ]
  },
  {
   "cell_type": "code",
   "execution_count": 77,
   "id": "d556db95",
   "metadata": {
    "lines_to_next_cell": 1
   },
   "outputs": [],
   "source": [
    "def compute_predicted_pseudoranges(state, base_stations):\n",
    "    \"\"\"\n",
    "    Compute predicted pseudoranges based on current state estimate.\n",
    "    rho_k^i = sqrt((N^i-N_u)^2 + (E^i-E_u)^2 + (U^i-U_u)^2) + c*dt_u\n",
    "    \"\"\"\n",
    "    N_u, E_u, _, _, clock_offset = state\n",
    "    U_u = 0.0  # Assuming user is at ground level (#TODO)\n",
    "    \n",
    "    predicted_ranges = np.zeros(n_stations)\n",
    "    \n",
    "    for i in range(n_stations):\n",
    "        E_i, N_i, U_i = base_stations[i]\n",
    "        \n",
    "        # Geometric range\n",
    "        geometric_range = np.sqrt((N_i - N_u)**2 + (E_i - E_u)**2 + (U_i - U_u)**2)\n",
    "        \n",
    "        # Add clock offset\n",
    "        predicted_ranges[i] = geometric_range + clock_offset\n",
    "    \n",
    "    return predicted_ranges"
   ]
  },
  {
   "cell_type": "code",
   "execution_count": 78,
   "id": "34b3a1bf",
   "metadata": {
    "lines_to_next_cell": 1
   },
   "outputs": [],
   "source": [
    "def compute_jacobian_A(state, base_stations):\n",
    "    \"\"\"\n",
    "    Compute Jacobian matrix A_k (partial derivatives of measurement function)\n",
    "    A is (n_stations x 5) matrix\n",
    "    \"\"\"\n",
    "    N_u, E_u, _, _, _ = state\n",
    "    U_u = 0.0  # Assuming user is at ground level\n",
    "    \n",
    "    A = np.zeros((n_stations, 5))\n",
    "    \n",
    "    for i in range(n_stations):\n",
    "        E_i, N_i, U_i = base_stations[i]\n",
    "        \n",
    "        # Geometric range\n",
    "        range_i = np.sqrt((N_i - N_u)**2 + (E_i - E_u)**2 + (U_i - U_u)**2)\n",
    "        \n",
    "        # Partial derivatives\n",
    "        if range_i > 1e-10:  # Avoid division by zero\n",
    "            # ∂ρ/∂N_u = -(N_i - N_u) / range_i\n",
    "            A[i, 0] = -(N_i - N_u) / range_i  # e_N\n",
    "            # ∂ρ/∂E_u = -(E_i - E_u) / range_i  \n",
    "            A[i, 1] = -(E_i - E_u) / range_i  # e_E\n",
    "            # ∂ρ/∂V_N = 0\n",
    "            A[i, 2] = 0.0\n",
    "            # ∂ρ/∂V_E = 0\n",
    "            A[i, 3] = 0.0\n",
    "            # ∂ρ/∂(c*dt_u) = 1\n",
    "            A[i, 4] = 1.0\n",
    "    \n",
    "    return A"
   ]
  },
  {
   "cell_type": "code",
   "execution_count": 79,
   "id": "0216907b",
   "metadata": {},
   "outputs": [],
   "source": [
    "# Storage for results\n",
    "estimated_states = np.zeros((n_measurements, 5))\n",
    "covariances = np.zeros((n_measurements, 5, 5))"
   ]
  },
  {
   "cell_type": "markdown",
   "id": "25dbb6e7",
   "metadata": {},
   "source": [
    "**EKF Main Loop**"
   ]
  },
  {
   "cell_type": "code",
   "execution_count": 80,
   "id": "2c9841d7",
   "metadata": {},
   "outputs": [],
   "source": [
    "\n",
    "for k in range(n_measurements):\n",
    "    # Current measurements\n",
    "    y_k = P[k, :]\n",
    "    \n",
    "    # PREDICTION STEP\n",
    "    # Predict state: x̂(k|k-1) = T_k * x̂(k-1|k-1)\n",
    "    if k == 0:\n",
    "        x_hat_pred = x_hat  # Use initial state for first measurement\n",
    "    else:\n",
    "        x_hat_pred = T @ x_hat\n",
    "\n",
    "    # Predict covariance: K_k = C_k^model + T_k * C_(k-1)^e * T_k^T\n",
    "    K_pred = C_model + T @ C_error @ T.T\n",
    "    \n",
    "    # UPDATE STEP\n",
    "    # Compute predicted measurements\n",
    "    f_k = compute_predicted_pseudoranges(x_hat_pred, base_stations)\n",
    "    \n",
    "    # Innovation: ξ_k = y_k - f_k(x̂(k|k-1))\n",
    "    xi_k = y_k - f_k\n",
    "    \n",
    "    # Compute Jacobian matrix A_k\n",
    "    A_k = compute_jacobian_A(x_hat_pred, base_stations)\n",
    "\n",
    "    # Kalman gain: G_k = K_k * A_k^T * [C_k^obs + A_k * K_k * A_k^T]^(-1)\n",
    "    S_k = C_obs + A_k @ K_pred @ A_k.T  # Innovation covariance\n",
    "    G_k = K_pred @ A_k.T @ np.linalg.inv(S_k)\n",
    "    \n",
    "    # ESTIMATE STEP\n",
    "    # Updated state estimate: x̂(k|k) = x̂(k|k-1) + G_k * ξ_k\n",
    "    x_hat = x_hat_pred + G_k @ xi_k\n",
    "    \n",
    "    # Updated covariance: C_k^e = (I - G_k * A_k) * K_k\n",
    "    I = np.eye(5)\n",
    "    C_error = (I - G_k @ A_k) @ K_pred\n",
    "    \n",
    "    # Store results\n",
    "    estimated_states[k] = x_hat\n",
    "    covariances[k] = C_error"
   ]
  },
  {
   "cell_type": "code",
   "execution_count": 81,
   "id": "49ebbe37",
   "metadata": {},
   "outputs": [],
   "source": [
    "estimated_states[:, [0, 1]] = estimated_states[:, [1, 0]]  # N <-> E\n",
    "# Extract results for plotting\n",
    "positions_E = estimated_states[:, 0]\n",
    "positions_N = estimated_states[:, 1]\n",
    "velocities_N = estimated_states[:, 2]\n",
    "velocities_E = estimated_states[:, 3]\n",
    "clock_offset = estimated_states[:, 4]"
   ]
  },
  {
   "cell_type": "markdown",
   "id": "30a2994b",
   "metadata": {},
   "source": [
    "Create plots"
   ]
  },
  {
   "cell_type": "code",
   "execution_count": 82,
   "id": "5619a919",
   "metadata": {},
   "outputs": [
    {
     "data": {
      "image/png": "[encoded data removed]",
      "text/plain": [
       "<Figure size 640x480 with 1 Axes>"
      ]
     },
     "metadata": {},
     "output_type": "display_data"
    }
   ],
   "source": [
    "# Plot trajectory\n",
    "plt.plot(positions_E, positions_N, 'b-', linewidth=2, label='Estimated trajectory')\n",
    "plt.plot(positions_E[0], positions_N[0], 'go', markersize=8, label='Start')\n",
    "plt.plot(positions_E[-1], positions_N[-1], 'ro', markersize=8, label='End')\n",
    "\n",
    "# Plot base stations\n",
    "plt.scatter(base_stations[:, 0], base_stations[:, 1], c='red', s=100, marker='^', \n",
    "           label='Base stations', edgecolors='black')\n",
    "for i, (E, N, U) in enumerate(base_stations):\n",
    "    plt.annotate(f'BS{i+1}', (E, N), xytext=(5, 5), textcoords='offset points')\n",
    "\n",
    "plt.xlabel('East (m)')\n",
    "plt.ylabel('North (m)')\n",
    "plt.title('Estimated User Trajectory')\n",
    "plt.legend()\n",
    "plt.grid(True)\n",
    "plt.axis('equal')\n",
    "plt.tight_layout()\n",
    "plt.show()"
   ]
  },
  {
   "cell_type": "code",
   "execution_count": 83,
   "id": "76098857",
   "metadata": {},
   "outputs": [
    {
     "name": "stdout",
     "output_type": "stream",
     "text": [
      "\n",
      "Final Results:\n",
      "Final position: N = 32.03 m, E = 98.32 m\n",
      "Final velocity: VN = 0.252 m/s, VE = 2.903 m/s\n",
      "Final clock offset: 299.37 m\n",
      "Final position uncertainties: σN = 0.69 m, σE = 0.40 m\n"
     ]
    }
   ],
   "source": [
    "# Extract position uncertainties (standard deviations)\n",
    "std_N = np.sqrt(covariances[:, 0, 0])\n",
    "std_E = np.sqrt(covariances[:, 1, 1])\n",
    "\n",
    "# Print final results\n",
    "print(f\"\\nFinal Results:\")\n",
    "print(f\"Final position: N = {positions_N[-1]:.2f} m, E = {positions_E[-1]:.2f} m\")\n",
    "print(f\"Final velocity: VN = {velocities_N[-1]:.3f} m/s, VE = {velocities_E[-1]:.3f} m/s\")\n",
    "print(f\"Final clock offset: {clock_offset[-1]:.2f} m\")\n",
    "print(f\"Final position uncertainties: σN = {std_N[-1]:.2f} m, σE = {std_E[-1]:.2f} m\")"
   ]
  },
  {
   "cell_type": "code",
   "execution_count": 84,
   "id": "dfde2084",
   "metadata": {},
   "outputs": [
    {
     "name": "stdout",
     "output_type": "stream",
     "text": [
      "\n",
      "Trajectory Statistics:\n",
      "Total distance traveled: 1579.41 m\n",
      "Average speed: 3.739 m/s\n"
     ]
    }
   ],
   "source": [
    "# Calculate and print some statistics\n",
    "total_distance = np.sum(np.sqrt(np.diff(positions_E)**2 + np.diff(positions_N)**2))\n",
    "avg_speed = np.mean(np.sqrt(velocities_N**2 + velocities_E**2))\n",
    "\n",
    "print(f\"\\nTrajectory Statistics:\")\n",
    "print(f\"Total distance traveled: {total_distance:.2f} m\")\n",
    "print(f\"Average speed: {avg_speed:.3f} m/s\")"
   ]
  },
  {
   "cell_type": "code",
   "execution_count": 85,
   "id": "f5e53c1d",
   "metadata": {},
   "outputs": [],
   "source": [
    "# Save results to CSV\n",
    "results_df = pd.DataFrame(estimated_states, columns=['E', 'N', 'VN', 'VE', 'ClockOffset'])\n",
    "results_df.to_csv(\"ex_kalman_LC.csv\", index=False)"
   ]
  }
 ],
 "metadata": {
  "jupytext": {
   "cell_metadata_filter": "-all",
   "main_language": "python",
   "notebook_metadata_filter": "-all"
  },
  "kernelspec": {
   "display_name": "Python 3",
   "language": "python",
   "name": "python3"
  },
  "language_info": {
   "codemirror_mode": {
    "name": "ipython",
    "version": 3
   },
   "file_extension": ".py",
   "mimetype": "text/x-python",
   "name": "python",
   "nbconvert_exporter": "python",
   "pygments_lexer": "ipython3",
   "version": "3.12.3"
  }
 },
 "nbformat": 4,
 "nbformat_minor": 5
}
